{
 "cells": [
  {
   "cell_type": "code",
   "execution_count": 3,
   "id": "f8fc4bc8-eb31-4a1c-8e71-505c62b08dc2",
   "metadata": {},
   "outputs": [
    {
     "name": "stdin",
     "output_type": "stream",
     "text": [
      "Enter the length of side a:  12\n",
      "Enter the length of side b:  23\n",
      "Enter the length of side c:  22\n"
     ]
    },
    {
     "name": "stdout",
     "output_type": "stream",
     "text": [
      " Area of the triangle is:  129.65892757538913\n"
     ]
    }
   ],
   "source": [
    "import math\n",
    "leanth_a = float(input(\"Enter the length of side a: \"))\n",
    "leanth_b = float(input(\"Enter the length of side b: \"))\n",
    "leanth_c = float(input(\"Enter the length of side c: \"))\n",
    "s = (leanth_a+leanth_b+leanth_c)/2\n",
    "area = math.sqrt(s*(s-leanth_a)*(s-leanth_b)*(s-leanth_c))\n",
    "print(\" Area of the triangle is: \", area)\n"
   ]
  },
  {
   "cell_type": "code",
   "execution_count": null,
   "id": "081ce5fb-6377-47c1-8303-7635cc8c6591",
   "metadata": {},
   "outputs": [],
   "source": []
  }
 ],
 "metadata": {
  "kernelspec": {
   "display_name": "Python 3 (ipykernel)",
   "language": "python",
   "name": "python3"
  },
  "language_info": {
   "codemirror_mode": {
    "name": "ipython",
    "version": 3
   },
   "file_extension": ".py",
   "mimetype": "text/x-python",
   "name": "python",
   "nbconvert_exporter": "python",
   "pygments_lexer": "ipython3",
   "version": "3.9.12"
  }
 },
 "nbformat": 4,
 "nbformat_minor": 5
}
