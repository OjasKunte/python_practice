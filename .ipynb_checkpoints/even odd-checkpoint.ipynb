{
 "cells": [
  {
   "cell_type": "code",
   "execution_count": 6,
   "id": "32226a63-1b0b-4044-839f-b772520ed4fe",
   "metadata": {},
   "outputs": [
    {
     "name": "stdin",
     "output_type": "stream",
     "text": [
      "Enter a number:- 3\n"
     ]
    },
    {
     "name": "stdout",
     "output_type": "stream",
     "text": [
      "The number  you entered is odd 3\n"
     ]
    }
   ],
   "source": [
    "number=int(input(\"Enter a number:-\"))\n",
    "if(number%2==0):\n",
    "    print(\"The number you entered is Even\")\n",
    "else:\n",
    "    print(\"The number you entered is odd\")"
   ]
  },
  {
   "cell_type": "code",
   "execution_count": null,
   "id": "4829a822-cd80-4a7f-a3c8-8a5881c52f30",
   "metadata": {},
   "outputs": [],
   "source": []
  }
 ],
 "metadata": {
  "kernelspec": {
   "display_name": "Python 3 (ipykernel)",
   "language": "python",
   "name": "python3"
  },
  "language_info": {
   "codemirror_mode": {
    "name": "ipython",
    "version": 3
   },
   "file_extension": ".py",
   "mimetype": "text/x-python",
   "name": "python",
   "nbconvert_exporter": "python",
   "pygments_lexer": "ipython3",
   "version": "3.9.12"
  }
 },
 "nbformat": 4,
 "nbformat_minor": 5
}
