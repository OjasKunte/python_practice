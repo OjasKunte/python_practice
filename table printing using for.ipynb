{
 "cells": [
  {
   "cell_type": "code",
   "execution_count": null,
   "id": "796d15b8-4c61-4a65-a721-e580e01e333f",
   "metadata": {},
   "outputs": [],
   "source": [
    "n=int(input(\"Enter a number for which you want to print the table:\"))\n",
    "for i in range(1,11)\n",
    "    print(\"The tabe is as follows  n, \"x\", i, \"=\", n*i )"
   ]
  }
 ],
 "metadata": {
  "kernelspec": {
   "display_name": "Python 3 (ipykernel)",
   "language": "python",
   "name": "python3"
  },
  "language_info": {
   "codemirror_mode": {
    "name": "ipython",
    "version": 3
   },
   "file_extension": ".py",
   "mimetype": "text/x-python",
   "name": "python",
   "nbconvert_exporter": "python",
   "pygments_lexer": "ipython3",
   "version": "3.9.12"
  }
 },
 "nbformat": 4,
 "nbformat_minor": 5
}
