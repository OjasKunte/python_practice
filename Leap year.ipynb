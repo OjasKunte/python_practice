{
 "cells": [
  {
   "cell_type": "code",
   "execution_count": 21,
   "id": "22cded1c-cf1b-4f52-88c4-c6c6f4108b07",
   "metadata": {},
   "outputs": [
    {
     "name": "stdin",
     "output_type": "stream",
     "text": [
      "Enter a year:  2020\n"
     ]
    },
    {
     "name": "stdout",
     "output_type": "stream",
     "text": [
      "2020  is a leap year\n"
     ]
    }
   ],
   "source": [
    "year = int(input(\"Enter a year: \"))\n",
    "if (year % 4) == 0:\n",
    "    if (year % 100) == 0:\n",
    "        if (year % 400) == 0:\n",
    "            print(year, \" is a leap year\")\n",
    "        else:\n",
    "            print(year, \" is not a leap year\")\n",
    "    else:\n",
    "        print(year, \" is a leap year\")\n",
    "else:\n",
    "    print(year, \" is not a leap year\")"
   ]
  },
  {
   "cell_type": "code",
   "execution_count": null,
   "id": "6385313d-84a9-40bb-a56b-5fad6418ccae",
   "metadata": {},
   "outputs": [],
   "source": []
  },
  {
   "cell_type": "code",
   "execution_count": null,
   "id": "8d6ba355-c424-495c-9886-52be48b33b61",
   "metadata": {},
   "outputs": [],
   "source": []
  },
  {
   "cell_type": "code",
   "execution_count": null,
   "id": "042a545f-5fac-4eca-bd8e-def68e892778",
   "metadata": {},
   "outputs": [],
   "source": [
    "\n",
    "\n",
    "\n",
    "\n",
    "    "
   ]
  }
 ],
 "metadata": {
  "kernelspec": {
   "display_name": "Python 3 (ipykernel)",
   "language": "python",
   "name": "python3"
  },
  "language_info": {
   "codemirror_mode": {
    "name": "ipython",
    "version": 3
   },
   "file_extension": ".py",
   "mimetype": "text/x-python",
   "name": "python",
   "nbconvert_exporter": "python",
   "pygments_lexer": "ipython3",
   "version": "3.9.12"
  }
 },
 "nbformat": 4,
 "nbformat_minor": 5
}
