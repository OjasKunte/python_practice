{
 "cells": [
  {
   "cell_type": "code",
   "execution_count": 8,
   "id": "4f2e17be-823a-4439-ab44-d9f5fa9d3286",
   "metadata": {},
   "outputs": [
    {
     "name": "stdin",
     "output_type": "stream",
     "text": [
      "Enter the count of numbers:  2\n",
      "Enter an integer:  1\n",
      "Enter an integer:  2\n"
     ]
    },
    {
     "name": "stdout",
     "output_type": "stream",
     "text": [
      " The average is:  1.5\n"
     ]
    }
   ],
   "source": [
    "total_input= int(input(\"Enter the count of numbers: \"))\n",
    "i = 0\n",
    "sum = 0\n",
    "for i in range(count):\n",
    "    value= int(input(\"Enter an integer: \"))\n",
    "    sum = sum + value\n",
    "average = sum/total_input\n",
    "print(\" The average is: \", average)"
   ]
  },
  {
   "cell_type": "code",
   "execution_count": null,
   "id": "f273d3b2-eb4d-4ad1-9289-ecea3219a846",
   "metadata": {},
   "outputs": [],
   "source": []
  }
 ],
 "metadata": {
  "kernelspec": {
   "display_name": "Python 3 (ipykernel)",
   "language": "python",
   "name": "python3"
  },
  "language_info": {
   "codemirror_mode": {
    "name": "ipython",
    "version": 3
   },
   "file_extension": ".py",
   "mimetype": "text/x-python",
   "name": "python",
   "nbconvert_exporter": "python",
   "pygments_lexer": "ipython3",
   "version": "3.9.12"
  }
 },
 "nbformat": 4,
 "nbformat_minor": 5
}
